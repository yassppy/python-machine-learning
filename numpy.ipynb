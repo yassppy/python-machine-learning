{
 "cells": [
  {
   "cell_type": "markdown",
   "id": "7e4ae94d",
   "metadata": {},
   "source": [
    "# 1. NumPy: Introducción\n",
    "\n",
    "NumPy (Numerical Python) es una librería fundamental para la computación científica con Python.\n",
    "\n",
    "- Permite la creación y manipulación de arrays multidimensionales.\n",
    "- Se utiliza por que ocupa menos memoria que una lista y es más rápido.\n",
    "- Además, ofrece una amplia gama de funciones matemáticas y estadísticas."
   ]
  },
  {
   "cell_type": "code",
   "execution_count": 3,
   "id": "6e97c5ab",
   "metadata": {},
   "outputs": [
    {
     "name": "stdout",
     "output_type": "stream",
     "text": [
      "Collecting numpy\n",
      "  Downloading numpy-2.3.3-cp312-cp312-win_amd64.whl.metadata (60 kB)\n",
      "Downloading numpy-2.3.3-cp312-cp312-win_amd64.whl (12.8 MB)\n",
      "   ---------------------------------------- 0.0/12.8 MB ? eta -:--:--\n",
      "   -- ------------------------------------- 0.8/12.8 MB 4.2 MB/s eta 0:00:03\n",
      "   ----- ---------------------------------- 1.8/12.8 MB 4.4 MB/s eta 0:00:03\n",
      "   -------- ------------------------------- 2.6/12.8 MB 4.6 MB/s eta 0:00:03\n",
      "   ----------- ---------------------------- 3.7/12.8 MB 4.4 MB/s eta 0:00:03\n",
      "   ------------- -------------------------- 4.5/12.8 MB 4.4 MB/s eta 0:00:02\n",
      "   ---------------- ----------------------- 5.2/12.8 MB 4.2 MB/s eta 0:00:02\n",
      "   ------------------ --------------------- 6.0/12.8 MB 4.2 MB/s eta 0:00:02\n",
      "   ---------------------- ----------------- 7.1/12.8 MB 4.2 MB/s eta 0:00:02\n",
      "   ------------------------ --------------- 7.9/12.8 MB 4.2 MB/s eta 0:00:02\n",
      "   --------------------------- ------------ 8.7/12.8 MB 4.2 MB/s eta 0:00:01\n",
      "   ------------------------------ --------- 9.7/12.8 MB 4.2 MB/s eta 0:00:01\n",
      "   -------------------------------- ------- 10.5/12.8 MB 4.1 MB/s eta 0:00:01\n",
      "   ----------------------------------- ---- 11.3/12.8 MB 4.1 MB/s eta 0:00:01\n",
      "   ------------------------------------ --- 11.8/12.8 MB 4.0 MB/s eta 0:00:01\n",
      "   -------------------------------------- - 12.3/12.8 MB 3.9 MB/s eta 0:00:01\n",
      "   ---------------------------------------  12.6/12.8 MB 3.8 MB/s eta 0:00:01\n",
      "   ---------------------------------------  12.6/12.8 MB 3.8 MB/s eta 0:00:01\n",
      "   ---------------------------------------  12.6/12.8 MB 3.8 MB/s eta 0:00:01\n",
      "   ---------------------------------------- 12.8/12.8 MB 3.2 MB/s eta 0:00:00\n",
      "Installing collected packages: numpy\n",
      "Successfully installed numpy-2.3.3\n",
      "Note: you may need to restart the kernel to use updated packages.\n"
     ]
    },
    {
     "name": "stderr",
     "output_type": "stream",
     "text": [
      "\n",
      "[notice] A new release of pip is available: 24.2 -> 25.2\n",
      "[notice] To update, run: python.exe -m pip install --upgrade pip\n"
     ]
    }
   ],
   "source": [
    "%pip install numpy"
   ]
  },
  {
   "cell_type": "code",
   "execution_count": 4,
   "id": "5d381232",
   "metadata": {},
   "outputs": [],
   "source": [
    "import numpy as np"
   ]
  },
  {
   "cell_type": "markdown",
   "id": "bd908115",
   "metadata": {},
   "source": [
    "## 2. Creación de Arrays"
   ]
  },
  {
   "cell_type": "markdown",
   "id": "ae5eba51",
   "metadata": {},
   "source": [
    "- Ejemplo de array unidimensional (Vector)"
   ]
  },
  {
   "cell_type": "code",
   "execution_count": 5,
   "id": "3ac13a8a",
   "metadata": {},
   "outputs": [
    {
     "name": "stdout",
     "output_type": "stream",
     "text": [
      "[1 2 3]\n"
     ]
    },
    {
     "data": {
      "text/plain": [
       "numpy.ndarray"
      ]
     },
     "execution_count": 5,
     "metadata": {},
     "output_type": "execute_result"
    }
   ],
   "source": [
    "array_1d = np.array([1,2,3])\n",
    "print(array_1d)\n",
    "type(array_1d)"
   ]
  },
  {
   "cell_type": "markdown",
   "id": "5f9cdc77",
   "metadata": {},
   "source": [
    "- Ejemplo de Array Bidimensional (Matriz)"
   ]
  },
  {
   "cell_type": "code",
   "execution_count": 6,
   "id": "8e46243e",
   "metadata": {},
   "outputs": [
    {
     "name": "stdout",
     "output_type": "stream",
     "text": [
      "[[1 2 3]\n",
      " [1 2 3]]\n"
     ]
    },
    {
     "data": {
      "text/plain": [
       "numpy.ndarray"
      ]
     },
     "execution_count": 6,
     "metadata": {},
     "output_type": "execute_result"
    }
   ],
   "source": [
    "array_2d = np.array([[1,2,3], [1,2,3]])\n",
    "print(array_2d)\n",
    "type(array_2d)"
   ]
  },
  {
   "cell_type": "markdown",
   "id": "357c2c9d",
   "metadata": {},
   "source": [
    "- Ejemplo de Array Multidimensional (Tensor)"
   ]
  },
  {
   "cell_type": "code",
   "execution_count": 7,
   "id": "b3d8cdba",
   "metadata": {},
   "outputs": [
    {
     "name": "stdout",
     "output_type": "stream",
     "text": [
      "[[1 2 3]\n",
      " [1 2 3]\n",
      " [1 2 3]]\n"
     ]
    },
    {
     "data": {
      "text/plain": [
       "numpy.ndarray"
      ]
     },
     "execution_count": 7,
     "metadata": {},
     "output_type": "execute_result"
    }
   ],
   "source": [
    "array_3d = np.array([\n",
    "    [1,2,3],\n",
    "    [1,2,3],\n",
    "    [1,2,3]\n",
    "])\n",
    "print(array_3d)\n",
    "type(array_3d)"
   ]
  },
  {
   "cell_type": "code",
   "execution_count": 10,
   "id": "e0589990",
   "metadata": {},
   "outputs": [
    {
     "name": "stdout",
     "output_type": "stream",
     "text": [
      "[[1. 1. 1. 1.]\n",
      " [1. 1. 1. 1.]\n",
      " [1. 1. 1. 1.]]\n"
     ]
    }
   ],
   "source": [
    "# Se crea una matriz de unos\n",
    "one = np.ones((3,4))\n",
    "print(one)"
   ]
  },
  {
   "cell_type": "code",
   "execution_count": 11,
   "id": "c905ce5c",
   "metadata": {},
   "outputs": [
    {
     "name": "stdout",
     "output_type": "stream",
     "text": [
      "[[0. 0. 0. 0.]\n",
      " [0. 0. 0. 0.]\n",
      " [0. 0. 0. 0.]]\n"
     ]
    }
   ],
   "source": [
    "# Se crea una matriz de ceros\n",
    "zero = np.zeros((3,4))\n",
    "print(zero)"
   ]
  },
  {
   "cell_type": "code",
   "execution_count": 15,
   "id": "5320ddba",
   "metadata": {},
   "outputs": [
    {
     "name": "stdout",
     "output_type": "stream",
     "text": [
      "[[8 8 8 8]\n",
      " [8 8 8 8]]\n"
     ]
    }
   ],
   "source": [
    "# Crear una matriz cuyo valor son todos el número establecido en el parametro\n",
    "array2 = np.full((2,4), 8)\n",
    "print(array2)"
   ]
  },
  {
   "cell_type": "markdown",
   "id": "f72565c5",
   "metadata": {},
   "source": [
    "### 2.1 Crear una matriz en base a funciones de rango"
   ]
  },
  {
   "attachments": {
    "image-2.png": {
     "image/png": "[encoded data removed]"
    }
   },
   "cell_type": "markdown",
   "id": "b3a01982",
   "metadata": {},
   "source": [
    "![image-2.png](attachment:image-2.png)"
   ]
  },
  {
   "cell_type": "code",
   "execution_count": 17,
   "id": "313491b4",
   "metadata": {},
   "outputs": [
    {
     "name": "stdout",
     "output_type": "stream",
     "text": [
      "[ 0  5 10 15 20 25]\n"
     ]
    }
   ],
   "source": [
    "space1 = np.arange(0, 30, 5)\n",
    "print(space1)"
   ]
  },
  {
   "attachments": {
    "image.png": {
     "image/png": "[encoded data removed]"
    }
   },
   "cell_type": "markdown",
   "id": "88a78d28",
   "metadata": {},
   "source": [
    "![image.png](attachment:image.png)"
   ]
  },
  {
   "cell_type": "code",
   "execution_count": 22,
   "id": "1a9d0c36",
   "metadata": {},
   "outputs": [
    {
     "name": "stdout",
     "output_type": "stream",
     "text": [
      "[ 1.  4.  7. 10.]\n"
     ]
    }
   ],
   "source": [
    "space2 = np.linspace(1, 10, 4)\n",
    "print(space2)"
   ]
  },
  {
   "cell_type": "markdown",
   "id": "8a3c06b6",
   "metadata": {},
   "source": [
    "### 2.2 Crear una matriz en base a valores aleatorios"
   ]
  },
  {
   "cell_type": "code",
   "execution_count": 27,
   "id": "05324f22",
   "metadata": {},
   "outputs": [
    {
     "name": "stdout",
     "output_type": "stream",
     "text": [
      "[[-0.94594095  0.87306827 -0.3290211   2.29234657]\n",
      " [ 0.4396018  -0.04015777 -0.31639202 -1.95592182]]\n"
     ]
    }
   ],
   "source": [
    "# Inicalizar un array con valores aleatorios con una distribución normal\n",
    "array1 = np.random.randn(2, 4)\n",
    "print(array1)\n"
   ]
  },
  {
   "cell_type": "code",
   "execution_count": 28,
   "id": "a95e378e",
   "metadata": {},
   "outputs": [
    {
     "name": "stdout",
     "output_type": "stream",
     "text": [
      "[[[0.45235593 0.84788026]\n",
      "  [0.63446508 0.2771778 ]\n",
      "  [0.54352188 0.6110013 ]]\n",
      "\n",
      " [[0.93768111 0.26050354]\n",
      "  [0.50402969 0.7339346 ]\n",
      "  [0.19782862 0.93776064]]]\n"
     ]
    }
   ],
   "source": [
    "array_rand = np.random.rand(2, 3, 2)\n",
    "print(array_rand)"
   ]
  },
  {
   "cell_type": "markdown",
   "id": "8ea20fc2",
   "metadata": {},
   "source": [
    "## 3. Transponer una matriz."
   ]
  },
  {
   "cell_type": "code",
   "execution_count": null,
   "id": "cc2a2db2",
   "metadata": {},
   "outputs": [
    {
     "name": "stdout",
     "output_type": "stream",
     "text": [
      "[[ 8  9 10]\n",
      " [11 12 13]]\n",
      "[[ 8  9]\n",
      " [10 11]\n",
      " [12 13]]\n"
     ]
    }
   ],
   "source": [
    "a = np.array([(8,9,10),(11,12,13)])\n",
    "print(a)\n",
    "a = a.reshape(3,2)\n",
    "print(a)"
   ]
  },
  {
   "cell_type": "markdown",
   "id": "8f7b478b",
   "metadata": {},
   "source": [
    "## 4. Indexación y Slicing:\n",
    "\n",
    "- Se utiliza para acceder a elementos individuales dentro del array."
   ]
  },
  {
   "cell_type": "markdown",
   "id": "503de593",
   "metadata": {},
   "source": [
    "### 4.1 Para un Array Unidimensional "
   ]
  },
  {
   "cell_type": "code",
   "execution_count": 35,
   "id": "74a57b12",
   "metadata": {},
   "outputs": [
    {
     "name": "stdout",
     "output_type": "stream",
     "text": [
      "[1 2 3 4 5 6 7 8 9]\n"
     ]
    }
   ],
   "source": [
    "example_array = np.arange(1, 10)\n",
    "print(example_array)"
   ]
  },
  {
   "attachments": {
    "image.png": {
     "image/png": "[encoded data removed]"
    }
   },
   "cell_type": "markdown",
   "id": "7062415b",
   "metadata": {},
   "source": [
    "![image.png](attachment:image.png)"
   ]
  },
  {
   "cell_type": "code",
   "execution_count": 37,
   "id": "bafe338a",
   "metadata": {},
   "outputs": [
    {
     "name": "stdout",
     "output_type": "stream",
     "text": [
      "6\n"
     ]
    }
   ],
   "source": [
    "# Obtener un elemento del Índice\n",
    "print(example_array[5])"
   ]
  },
  {
   "attachments": {
    "image.png": {
     "image/png": "[encoded data removed]"
    }
   },
   "cell_type": "markdown",
   "id": "0095b658",
   "metadata": {},
   "source": [
    "1. start (inicio) es inclusivo (se incluye el elemento en ese índice).\n",
    "2. stop (fin) es exclusivo (se detiene antes de llegar a ese índice).\n",
    "\n",
    "![image.png](attachment:image.png)"
   ]
  },
  {
   "attachments": {
    "image.png": {
     "image/png": "[encoded data removed]"
    }
   },
   "cell_type": "markdown",
   "id": "39e86028",
   "metadata": {},
   "source": [
    "![image.png](attachment:image.png)"
   ]
  },
  {
   "cell_type": "code",
   "execution_count": null,
   "id": "f5184647",
   "metadata": {},
   "outputs": [
    {
     "name": "stdout",
     "output_type": "stream",
     "text": [
      "[3 4]\n"
     ]
    }
   ],
   "source": [
    "# Slicing en NumPy\n",
    "\n",
    "print(example_array[2:4])"
   ]
  },
  {
   "cell_type": "code",
   "execution_count": 41,
   "id": "41cc67fa",
   "metadata": {},
   "outputs": [
    {
     "name": "stdout",
     "output_type": "stream",
     "text": [
      "[5 6 7 8 9]\n"
     ]
    }
   ],
   "source": [
    "# Va desde el índice 4 hasta el final\n",
    "print(example_array[4:])"
   ]
  },
  {
   "cell_type": "code",
   "execution_count": 43,
   "id": "0decaab5",
   "metadata": {},
   "outputs": [
    {
     "name": "stdout",
     "output_type": "stream",
     "text": [
      "[1 4 7]\n"
     ]
    }
   ],
   "source": [
    "# Le das un espacio al final tu pones el valor\n",
    "print(example_array[0::3])"
   ]
  },
  {
   "cell_type": "markdown",
   "id": "f4dc409d",
   "metadata": {},
   "source": [
    "### 4.2 Para un Array Multidimensional "
   ]
  },
  {
   "cell_type": "code",
   "execution_count": 45,
   "id": "2197d0e3",
   "metadata": {},
   "outputs": [
    {
     "name": "stdout",
     "output_type": "stream",
     "text": [
      "[[1 2 3]\n",
      " [4 5 6]\n",
      " [7 8 9]]\n"
     ]
    }
   ],
   "source": [
    "a = np.array([(1,2,3),(4,5,6),(7,8,9)])\n",
    "print(a)"
   ]
  },
  {
   "cell_type": "code",
   "execution_count": 46,
   "id": "0ee09743",
   "metadata": {},
   "outputs": [
    {
     "name": "stdout",
     "output_type": "stream",
     "text": [
      "3\n"
     ]
    }
   ],
   "source": [
    "# Acceder a un elemento\n",
    "print(a[0,2])"
   ]
  },
  {
   "cell_type": "code",
   "execution_count": 48,
   "id": "c71cd0b4",
   "metadata": {},
   "outputs": [
    {
     "name": "stdout",
     "output_type": "stream",
     "text": [
      "[3 6 9]\n"
     ]
    }
   ],
   "source": [
    "print(a[0:3,2])"
   ]
  },
  {
   "cell_type": "code",
   "execution_count": 50,
   "id": "54a7cfe0",
   "metadata": {},
   "outputs": [
    {
     "name": "stdout",
     "output_type": "stream",
     "text": [
      "[[1 2]\n",
      " [4 5]\n",
      " [7 8]]\n"
     ]
    }
   ],
   "source": [
    "# Obtener las 2 primeras columnas\n",
    "print(a[:,:2])"
   ]
  },
  {
   "cell_type": "markdown",
   "id": "4e100b0b",
   "metadata": {},
   "source": [
    "## 5. Modificaciones de un Array"
   ]
  },
  {
   "cell_type": "code",
   "execution_count": 64,
   "id": "daedf4ea",
   "metadata": {},
   "outputs": [
    {
     "name": "stdout",
     "output_type": "stream",
     "text": [
      "[[1 2]\n",
      " [4 5]\n",
      " [4 5]]\n",
      "[[1 2 4]\n",
      " [5 4 5]]\n"
     ]
    }
   ],
   "source": [
    "example = np.array([(1,2), (4,5), (4,5)])\n",
    "print(example)\n",
    "example.shape = (2, 3)\n",
    "print(example)"
   ]
  },
  {
   "cell_type": "code",
   "execution_count": 66,
   "id": "ec861e7c",
   "metadata": {},
   "outputs": [
    {
     "name": "stdout",
     "output_type": "stream",
     "text": [
      "[[1 2]\n",
      " [4 5]\n",
      " [4 5]]\n"
     ]
    }
   ],
   "source": [
    "b = example.reshape(3,2)\n",
    "print(b)"
   ]
  },
  {
   "cell_type": "code",
   "execution_count": 71,
   "id": "582a6653",
   "metadata": {},
   "outputs": [
    {
     "name": "stdout",
     "output_type": "stream",
     "text": [
      "[[1 2]\n",
      " [4 5]\n",
      " [4 5]\n",
      " [5 2]]\n"
     ]
    }
   ],
   "source": [
    "# Añadir elementos\n",
    "c = np.append(b, [[5,2]], axis=0)\n",
    "print(c)"
   ]
  },
  {
   "cell_type": "code",
   "execution_count": 74,
   "id": "43b9c2a4",
   "metadata": {},
   "outputs": [
    {
     "name": "stdout",
     "output_type": "stream",
     "text": [
      "[[1 2]\n",
      " [4 5]]\n"
     ]
    }
   ],
   "source": [
    "# Eliminar elementos\n",
    "c = np.delete(b, 1, axis=0)\n",
    "print(c)"
   ]
  },
  {
   "cell_type": "markdown",
   "id": "5afc73a8",
   "metadata": {},
   "source": [
    "## 6. Funciones Estadísticas sobre Arrays"
   ]
  },
  {
   "cell_type": "code",
   "execution_count": 76,
   "id": "4b9b9360",
   "metadata": {},
   "outputs": [
    {
     "name": "stdout",
     "output_type": "stream",
     "text": [
      "[ 1  3  5  7  9 11 13 15 17 19 21]\n"
     ]
    }
   ],
   "source": [
    "array = np.arange(1, 22, 2)\n",
    "print(array)"
   ]
  },
  {
   "cell_type": "code",
   "execution_count": 77,
   "id": "1efc101b",
   "metadata": {},
   "outputs": [
    {
     "data": {
      "text/plain": [
       "np.float64(11.0)"
      ]
     },
     "execution_count": 77,
     "metadata": {},
     "output_type": "execute_result"
    }
   ],
   "source": [
    "array.mean()"
   ]
  },
  {
   "cell_type": "code",
   "execution_count": 78,
   "id": "307d1358",
   "metadata": {},
   "outputs": [
    {
     "data": {
      "text/plain": [
       "np.int64(121)"
      ]
     },
     "execution_count": 78,
     "metadata": {},
     "output_type": "execute_result"
    }
   ],
   "source": [
    "array.sum()"
   ]
  },
  {
   "cell_type": "code",
   "execution_count": 79,
   "id": "02e061e7",
   "metadata": {},
   "outputs": [
    {
     "data": {
      "text/plain": [
       "np.int64(1)"
      ]
     },
     "execution_count": 79,
     "metadata": {},
     "output_type": "execute_result"
    }
   ],
   "source": [
    "array.min()"
   ]
  },
  {
   "cell_type": "code",
   "execution_count": 80,
   "id": "1e6cd414",
   "metadata": {},
   "outputs": [
    {
     "data": {
      "text/plain": [
       "np.int64(21)"
      ]
     },
     "execution_count": 80,
     "metadata": {},
     "output_type": "execute_result"
    }
   ],
   "source": [
    "array.max()"
   ]
  },
  {
   "cell_type": "code",
   "execution_count": 82,
   "id": "6a23a160",
   "metadata": {},
   "outputs": [
    {
     "data": {
      "text/plain": [
       "array([  1,   9,  25,  49,  81, 121, 169, 225, 289, 361, 441])"
      ]
     },
     "execution_count": 82,
     "metadata": {},
     "output_type": "execute_result"
    }
   ],
   "source": [
    "# Cuadrado de los elementos del Array\n",
    "np.square(array)"
   ]
  },
  {
   "cell_type": "code",
   "execution_count": 84,
   "id": "74559e56",
   "metadata": {},
   "outputs": [
    {
     "data": {
      "text/plain": [
       "array([1.        , 1.73205081, 2.23606798, 2.64575131, 3.        ,\n",
       "       3.31662479, 3.60555128, 3.87298335, 4.12310563, 4.35889894,\n",
       "       4.58257569])"
      ]
     },
     "execution_count": 84,
     "metadata": {},
     "output_type": "execute_result"
    }
   ],
   "source": [
    "#  Raiz cuadrada de los elementos del Array\n",
    "np.sqrt(array)"
   ]
  },
  {
   "cell_type": "code",
   "execution_count": 87,
   "id": "ddd25567",
   "metadata": {},
   "outputs": [
    {
     "data": {
      "text/plain": [
       "array([2.71828183e+00, 2.00855369e+01, 1.48413159e+02, 1.09663316e+03,\n",
       "       8.10308393e+03, 5.98741417e+04, 4.42413392e+05, 3.26901737e+06,\n",
       "       2.41549528e+07, 1.78482301e+08, 1.31881573e+09])"
      ]
     },
     "execution_count": 87,
     "metadata": {},
     "output_type": "execute_result"
    }
   ],
   "source": [
    "# Exponencial de los elementos del Array\n",
    "np.exp(array)"
   ]
  },
  {
   "cell_type": "code",
   "execution_count": 88,
   "id": "afbc5792",
   "metadata": {},
   "outputs": [
    {
     "data": {
      "text/plain": [
       "array([0.        , 1.09861229, 1.60943791, 1.94591015, 2.19722458,\n",
       "       2.39789527, 2.56494936, 2.7080502 , 2.83321334, 2.94443898,\n",
       "       3.04452244])"
      ]
     },
     "execution_count": 88,
     "metadata": {},
     "output_type": "execute_result"
    }
   ],
   "source": [
    "# log de los elementos del Array\n",
    "np.log(array)"
   ]
  },
  {
   "cell_type": "code",
   "execution_count": null,
   "id": "ec771b8e",
   "metadata": {},
   "outputs": [],
   "source": []
  }
 ],
 "metadata": {
  "kernelspec": {
   "display_name": "venv",
   "language": "python",
   "name": "python3"
  },
  "language_info": {
   "codemirror_mode": {
    "name": "ipython",
    "version": 3
   },
   "file_extension": ".py",
   "mimetype": "text/x-python",
   "name": "python",
   "nbconvert_exporter": "python",
   "pygments_lexer": "ipython3",
   "version": "3.12.5"
  }
 },
 "nbformat": 4,
 "nbformat_minor": 5
}
