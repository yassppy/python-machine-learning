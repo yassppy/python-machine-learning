{
 "cells": [
  {
   "cell_type": "markdown",
   "id": "7e4ae94d",
   "metadata": {},
   "source": [
    "## NumPy\n",
    "\n",
    "NumPy es una librería fundamental para la computación científica en Python. Su función principal es la creación y manipulación de arrays multidimensionales (ndarray), los cuales son más rápidos y eficientes en memoria que las listas de Python. Además, ofrece una vasta colección de funciones matemáticas y estadísticas de alto nivel."
   ]
  },
  {
   "cell_type": "markdown",
   "id": "ea9f1134",
   "metadata": {},
   "source": [
    "- Establer los paquetes de manera ordenada"
   ]
  },
  {
   "cell_type": "code",
   "execution_count": 1,
   "id": "5d381232",
   "metadata": {},
   "outputs": [],
   "source": [
    "import numpy as np"
   ]
  },
  {
   "cell_type": "markdown",
   "id": "ae5eba51",
   "metadata": {},
   "source": [
    "- Ejemplo de array unidimensional (Vector)"
   ]
  },
  {
   "cell_type": "code",
   "execution_count": 8,
   "id": "3ac13a8a",
   "metadata": {},
   "outputs": [
    {
     "name": "stdout",
     "output_type": "stream",
     "text": [
      "[1 2 3]\n"
     ]
    },
    {
     "data": {
      "text/plain": [
       "numpy.ndarray"
      ]
     },
     "execution_count": 8,
     "metadata": {},
     "output_type": "execute_result"
    }
   ],
   "source": [
    "array_1d = np.array([1,2,3])\n",
    "print(array_1d)\n",
    "type(array_1d)"
   ]
  },
  {
   "cell_type": "markdown",
   "id": "5f9cdc77",
   "metadata": {},
   "source": [
    "- Ejemplo de Array Bidimensional (Matriz)"
   ]
  },
  {
   "cell_type": "code",
   "execution_count": 7,
   "id": "8e46243e",
   "metadata": {},
   "outputs": [
    {
     "name": "stdout",
     "output_type": "stream",
     "text": [
      "[[1 2 3]\n",
      " [1 2 3]]\n"
     ]
    },
    {
     "data": {
      "text/plain": [
       "numpy.ndarray"
      ]
     },
     "execution_count": 7,
     "metadata": {},
     "output_type": "execute_result"
    }
   ],
   "source": [
    "array_2d = np.array([[1,2,3], [1,2,3]])\n",
    "print(array_2d)\n",
    "type(array_2d)"
   ]
  },
  {
   "cell_type": "markdown",
   "id": "357c2c9d",
   "metadata": {},
   "source": [
    "- Ejemplo de Array Multidimensional (Tensor)"
   ]
  },
  {
   "cell_type": "code",
   "execution_count": 9,
   "id": "b3d8cdba",
   "metadata": {},
   "outputs": [
    {
     "name": "stdout",
     "output_type": "stream",
     "text": [
      "[[1 2 3]\n",
      " [1 2 3]\n",
      " [1 2 3]]\n"
     ]
    },
    {
     "data": {
      "text/plain": [
       "numpy.ndarray"
      ]
     },
     "execution_count": 9,
     "metadata": {},
     "output_type": "execute_result"
    }
   ],
   "source": [
    "array_3d = np.array([\n",
    "    [1,2,3],\n",
    "    [1,2,3],\n",
    "    [1,2,3]\n",
    "])\n",
    "print(array_3d)\n",
    "type(array_3d)"
   ]
  },
  {
   "cell_type": "markdown",
   "id": "5e10763a",
   "metadata": {},
   "source": [
    "Se utiliza NumPy en vez de Lista de Python, esto ocupa menos memoria y es más rápido."
   ]
  }
 ],
 "metadata": {
  "kernelspec": {
   "display_name": "Python 3",
   "language": "python",
   "name": "python3"
  },
  "language_info": {
   "codemirror_mode": {
    "name": "ipython",
    "version": 3
   },
   "file_extension": ".py",
   "mimetype": "text/x-python",
   "name": "python",
   "nbconvert_exporter": "python",
   "pygments_lexer": "ipython3",
   "version": "3.12.1"
  }
 },
 "nbformat": 4,
 "nbformat_minor": 5
}
